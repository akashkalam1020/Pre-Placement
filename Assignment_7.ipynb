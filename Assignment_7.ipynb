{
  "nbformat": 4,
  "nbformat_minor": 0,
  "metadata": {
    "colab": {
      "provenance": [],
      "authorship_tag": "ABX9TyNI9CDE+5c9t3uwQfR+CDmC",
      "include_colab_link": true
    },
    "kernelspec": {
      "name": "python3",
      "display_name": "Python 3"
    },
    "language_info": {
      "name": "python"
    }
  },
  "cells": [
    {
      "cell_type": "markdown",
      "metadata": {
        "id": "view-in-github",
        "colab_type": "text"
      },
      "source": [
        "<a href=\"https://colab.research.google.com/github/akashkalam1020/Pre-Placement/blob/main/Assignment_7.ipynb\" target=\"_parent\"><img src=\"https://colab.research.google.com/assets/colab-badge.svg\" alt=\"Open In Colab\"/></a>"
      ]
    },
    {
      "cell_type": "markdown",
      "source": [
        "###💡 **Question 1**\n",
        "\n",
        "Given two strings s and t, *determine if they are isomorphic*.\n",
        "\n",
        "Two strings s and t are isomorphic if the characters in s can be replaced to get t.\n",
        "\n",
        "All occurrences of a character must be replaced with another character while preserving the order of characters. No two characters may map to the same character, but a character may map to itself.\n",
        "\n",
        "**Example 1:**\n",
        "\n",
        "**Input:** s = \"egg\", t = \"add\"\n",
        "\n",
        "**Output:** true\n",
        "\n",
        "</aside>"
      ],
      "metadata": {
        "id": "U57O9s_fIIRn"
      }
    },
    {
      "cell_type": "code",
      "execution_count": 1,
      "metadata": {
        "colab": {
          "base_uri": "https://localhost:8080/"
        },
        "id": "HJWOF5WPH93O",
        "outputId": "4b0b1bd3-b51e-4322-d50e-f304559fc9c7"
      },
      "outputs": [
        {
          "output_type": "stream",
          "name": "stdout",
          "text": [
            "True\n"
          ]
        }
      ],
      "source": [
        "def is_isomorphic(s, t):\n",
        "    if len(s) != len(t):\n",
        "        return False\n",
        "    \n",
        "    s_to_t = {}  # Stores the mapping from characters in s to characters in t\n",
        "    t_used = set()  # Keeps track of characters in t that have been used in the mapping\n",
        "    \n",
        "    for i in range(len(s)):\n",
        "        if s[i] in s_to_t:\n",
        "            if s_to_t[s[i]] != t[i]:\n",
        "                return False\n",
        "        else:\n",
        "            if t[i] in t_used:\n",
        "                return False\n",
        "            s_to_t[s[i]] = t[i]\n",
        "            t_used.add(t[i])\n",
        "    \n",
        "    return True\n",
        "\n",
        "s = \"egg\"\n",
        "t = \"add\"\n",
        "print(is_isomorphic(s, t))  # Output: True\n"
      ]
    },
    {
      "cell_type": "markdown",
      "source": [
        "###💡 **Question 2**\n",
        "\n",
        "Given a string num which represents an integer, return true *if* num *is a **strobogrammatic number***.\n",
        "\n",
        "A **strobogrammatic number** is a number that looks the same when rotated 180 degrees (looked at upside down).\n",
        "\n",
        "**Example 1:**\n",
        "\n",
        "**Input:** num = \"69\"\n",
        "\n",
        "**Output:**\n",
        "\n",
        "true\n",
        "\n",
        "</aside>"
      ],
      "metadata": {
        "id": "TOJOVNaDIMHx"
      }
    },
    {
      "cell_type": "code",
      "source": [
        "def is_strobogrammatic(num):\n",
        "    left, right = 0, len(num) - 1\n",
        "    valid_pairs = {'0': '0', '1': '1', '6': '9', '8': '8', '9': '6'}\n",
        "    \n",
        "    while left <= right:\n",
        "        if num[left] not in valid_pairs or num[right] != valid_pairs[num[left]]:\n",
        "            return False\n",
        "        left += 1\n",
        "        right -= 1\n",
        "    \n",
        "    return True\n",
        "\n",
        "num = \"69\"\n",
        "print(is_strobogrammatic(num))\n"
      ],
      "metadata": {
        "colab": {
          "base_uri": "https://localhost:8080/"
        },
        "id": "7xB2AFmkIPA1",
        "outputId": "63d3ef82-223f-4cf6-b6ad-5496bf9d78ad"
      },
      "execution_count": 2,
      "outputs": [
        {
          "output_type": "stream",
          "name": "stdout",
          "text": [
            "True\n"
          ]
        }
      ]
    },
    {
      "cell_type": "markdown",
      "source": [
        "###💡 **Question 3**\n",
        "\n",
        "Given two non-negative integers, num1 and num2 represented as string, return *the sum of* num1 *and* num2 *as a string*.\n",
        "\n",
        "You must solve the problem without using any built-in library for handling large integers (such as BigInteger). You must also not convert the inputs to integers directly.\n",
        "\n",
        "**Example 1:**\n",
        "\n",
        "**Input:** num1 = \"11\", num2 = \"123\"\n",
        "\n",
        "**Output:**\n",
        "\n",
        "\"134\"\n",
        "\n",
        "</aside>"
      ],
      "metadata": {
        "id": "THAMHgc_I5_w"
      }
    },
    {
      "cell_type": "code",
      "source": [
        "def addStrings(num1, num2):\n",
        "    i, j = len(num1) - 1, len(num2) - 1\n",
        "    carry = 0\n",
        "    result = \"\"\n",
        "    \n",
        "    while i >= 0 or j >= 0:\n",
        "        digit1 = int(num1[i]) if i >= 0 else 0\n",
        "        digit2 = int(num2[j]) if j >= 0 else 0\n",
        "        curr_sum = digit1 + digit2 + carry\n",
        "        carry = curr_sum // 10\n",
        "        result = str(curr_sum % 10) + result\n",
        "        i -= 1\n",
        "        j -= 1\n",
        "    \n",
        "    if carry > 0:\n",
        "        result = str(carry) + result\n",
        "    \n",
        "    return result\n",
        "\n",
        "num1 = \"11\"\n",
        "num2 = \"123\"\n",
        "print(addStrings(num1, num2))\n"
      ],
      "metadata": {
        "colab": {
          "base_uri": "https://localhost:8080/"
        },
        "id": "wE10af6-I0YR",
        "outputId": "e78969f8-5585-4937-cd89-06585abccd42"
      },
      "execution_count": 3,
      "outputs": [
        {
          "output_type": "stream",
          "name": "stdout",
          "text": [
            "134\n"
          ]
        }
      ]
    },
    {
      "cell_type": "markdown",
      "source": [
        "###💡 **Question 4**\n",
        "\n",
        "Given a string s, reverse the order of characters in each word within a sentence while still preserving whitespace and initial word order.\n",
        "\n",
        "**Example 1:**\n",
        "\n",
        "**Input:** s = \"Let's take LeetCode contest\"\n",
        "\n",
        "**Output:** \"s'teL ekat edoCteeL tsetnoc\"\n",
        "\n",
        "</aside>"
      ],
      "metadata": {
        "id": "w2SfMIyoJMS3"
      }
    },
    {
      "cell_type": "code",
      "source": [
        "def reverseWords(s):\n",
        "    words = s.split()\n",
        "    reversed_words = [word[::-1] for word in words]\n",
        "    return ' '.join(reversed_words)\n",
        "\n",
        "s = \"Let's take LeetCode contest\"\n",
        "print(reverseWords(s))\n"
      ],
      "metadata": {
        "colab": {
          "base_uri": "https://localhost:8080/"
        },
        "id": "7vsnI4O9JH_P",
        "outputId": "168081e8-5de8-467e-b6e0-816863f1bedd"
      },
      "execution_count": 4,
      "outputs": [
        {
          "output_type": "stream",
          "name": "stdout",
          "text": [
            "s'teL ekat edoCteeL tsetnoc\n"
          ]
        }
      ]
    },
    {
      "cell_type": "markdown",
      "source": [
        "###💡 **Question 5**\n",
        "\n",
        "Given a string s and an integer k, reverse the first k characters for every 2k characters counting from the start of the string.\n",
        "\n",
        "If there are fewer than k characters left, reverse all of them. If there are less than 2k but greater than or equal to k characters, then reverse the first k characters and leave the other as original.\n",
        "\n",
        "**Example 1:**\n",
        "\n",
        "**Input:** s = \"abcdefg\", k = 2\n",
        "\n",
        "**Output:**\n",
        "\n",
        "\"bacdfeg\"\n",
        "\n",
        "</aside>"
      ],
      "metadata": {
        "id": "PaYCpid3Ja-A"
      }
    },
    {
      "cell_type": "code",
      "source": [
        "def reverseStr(s, k):\n",
        "    chars = list(s)\n",
        "    n = len(chars)\n",
        "    \n",
        "    for i in range(0, n, 2*k):\n",
        "        start = i\n",
        "        end = min(i + k, n)  # Calculate the end index, considering the case when fewer than k characters are left\n",
        "        chars[start:end] = chars[start:end][::-1]  # Reverse the characters\n",
        "    \n",
        "    return ''.join(chars)\n",
        "\n",
        "s = \"abcdefg\"\n",
        "k = 2\n",
        "print(reverseStr(s, k))\n"
      ],
      "metadata": {
        "colab": {
          "base_uri": "https://localhost:8080/"
        },
        "id": "lVN8Fk5nJXZo",
        "outputId": "47e5129d-51fa-4bc6-aeb9-45634e2700af"
      },
      "execution_count": 5,
      "outputs": [
        {
          "output_type": "stream",
          "name": "stdout",
          "text": [
            "bacdfeg\n"
          ]
        }
      ]
    },
    {
      "cell_type": "markdown",
      "source": [
        "###💡 **Question 6**\n",
        "\n",
        "Given two strings s and goal, return true *if and only if* s *can become* goal *after some number of **shifts** on* s.\n",
        "\n",
        "A **shift** on s consists of moving the leftmost character of s to the rightmost position.\n",
        "\n",
        "- For example, if s = \"abcde\", then it will be \"bcdea\" after one shift.\n",
        "\n",
        "**Example 1:**\n",
        "\n",
        "**Input:** s = \"abcde\", goal = \"cdeab\"\n",
        "\n",
        "**Output:**\n",
        "\n",
        "true\n",
        "\n",
        "</aside>"
      ],
      "metadata": {
        "id": "lt-GqhHIJv--"
      }
    },
    {
      "cell_type": "code",
      "source": [
        "def rotateString(s, goal):\n",
        "    if len(s) != len(goal):\n",
        "        return False\n",
        "    \n",
        "    concatenated = s + s\n",
        "    if goal in concatenated:\n",
        "        return True\n",
        "    \n",
        "    return False\n",
        "\n",
        "s = \"abcde\"\n",
        "goal = \"cdeab\"\n",
        "print(rotateString(s, goal))\n"
      ],
      "metadata": {
        "colab": {
          "base_uri": "https://localhost:8080/"
        },
        "id": "Zipj3VcsJsgx",
        "outputId": "0ac56c79-7315-4852-ebfb-e3d3ad088930"
      },
      "execution_count": 6,
      "outputs": [
        {
          "output_type": "stream",
          "name": "stdout",
          "text": [
            "True\n"
          ]
        }
      ]
    },
    {
      "cell_type": "markdown",
      "source": [
        "###💡 **Question 7**\n",
        "\n",
        "Given two strings s and t, return true *if they are equal when both are typed into empty text editors*. '#' means a backspace character.\n",
        "\n",
        "Note that after backspacing an empty text, the text will continue empty.\n",
        "\n",
        "**Example 1:**\n",
        "\n",
        "**Input:** s = \"ab#c\", t = \"ad#c\"\n",
        "\n",
        "**Output:** true\n",
        "\n",
        "**Explanation:**\n",
        "\n",
        "Both s and t become \"ac\".\n",
        "\n",
        "</aside>"
      ],
      "metadata": {
        "id": "FUJkCcxcKFFk"
      }
    },
    {
      "cell_type": "code",
      "source": [
        "def backspaceCompare(s, t):\n",
        "    def processString(string):\n",
        "        stack = []\n",
        "        for char in string:\n",
        "            if char != '#':\n",
        "                stack.append(char)\n",
        "            elif stack:\n",
        "                stack.pop()\n",
        "        return ''.join(stack)\n",
        "    \n",
        "    processed_s = processString(s)\n",
        "    processed_t = processString(t)\n",
        "    \n",
        "    return processed_s == processed_t\n",
        "\n",
        "s = \"ab#c\"\n",
        "t = \"ad#c\"\n",
        "print(backspaceCompare(s, t))\n"
      ],
      "metadata": {
        "colab": {
          "base_uri": "https://localhost:8080/"
        },
        "id": "osjM7rwCJ74J",
        "outputId": "b97e8a73-fc0a-4fa1-f0d5-d4014ad5f3a3"
      },
      "execution_count": 8,
      "outputs": [
        {
          "output_type": "stream",
          "name": "stdout",
          "text": [
            "True\n"
          ]
        }
      ]
    },
    {
      "cell_type": "markdown",
      "source": [
        "###💡 **Question 8**\n",
        "\n",
        "You are given an array coordinates, coordinates[i] = [x, y], where [x, y] represents the coordinate of a point. Check if these points make a straight line in the XY plane.\n",
        "\n",
        "**Input:** coordinates = [[1,2],[2,3],[3,4],[4,5],[5,6],[6,7]]\n",
        "\n",
        "**Output:** true\n",
        "</aside>"
      ],
      "metadata": {
        "id": "GAKuk_rtKjm7"
      }
    },
    {
      "cell_type": "code",
      "source": [
        "def checkStraightLine(coordinates):\n",
        "    x1, y1 = coordinates[0]\n",
        "    x2, y2 = coordinates[1]\n",
        "    \n",
        "    for i in range(2, len(coordinates)):\n",
        "        x, y = coordinates[i]\n",
        "        if (y2 - y1) * (x - x1) != (y - y1) * (x2 - x1):\n",
        "            return False\n",
        "    \n",
        "    return True\n",
        "\n",
        "coordinates = [[1,2],[2,3],[3,4],[4,5],[5,6],[6,7]]\n",
        "print(checkStraightLine(coordinates))\n"
      ],
      "metadata": {
        "colab": {
          "base_uri": "https://localhost:8080/"
        },
        "id": "3tzzeVWNKPjO",
        "outputId": "240a83d1-9ea5-4b78-8a70-2aa9f942c72d"
      },
      "execution_count": 9,
      "outputs": [
        {
          "output_type": "stream",
          "name": "stdout",
          "text": [
            "True\n"
          ]
        }
      ]
    }
  ]
}