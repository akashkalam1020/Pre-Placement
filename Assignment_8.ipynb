{
  "nbformat": 4,
  "nbformat_minor": 0,
  "metadata": {
    "colab": {
      "provenance": [],
      "authorship_tag": "ABX9TyMOZqrhV2sYehPgwGjr9UmV",
      "include_colab_link": true
    },
    "kernelspec": {
      "name": "python3",
      "display_name": "Python 3"
    },
    "language_info": {
      "name": "python"
    }
  },
  "cells": [
    {
      "cell_type": "markdown",
      "metadata": {
        "id": "view-in-github",
        "colab_type": "text"
      },
      "source": [
        "<a href=\"https://colab.research.google.com/github/akashkalam1020/Pre-Placement/blob/main/Assignment_8.ipynb\" target=\"_parent\"><img src=\"https://colab.research.google.com/assets/colab-badge.svg\" alt=\"Open In Colab\"/></a>"
      ]
    },
    {
      "cell_type": "markdown",
      "source": [
        "###💡 **Question 1**\n",
        "\n",
        "Given two strings s1 and s2, return *the lowest **ASCII** sum of deleted characters to make two strings equal*.\n",
        "\n",
        "**Example 1:**\n",
        "\n",
        "**Input:** s1 = \"sea\", s2 = \"eat\"\n",
        "\n",
        "**Output:** 231\n",
        "\n",
        "**Explanation:** Deleting \"s\" from \"sea\" adds the ASCII value of \"s\" (115) to the sum.\n",
        "\n",
        "Deleting \"t\" from \"eat\" adds 116 to the sum.\n",
        "\n",
        "At the end, both strings are equal, and 115 + 116 = 231 is the minimum sum possible to achieve this.\n",
        "\n",
        "</aside>"
      ],
      "metadata": {
        "id": "pvabr9PySxF4"
      }
    },
    {
      "cell_type": "code",
      "execution_count": 1,
      "metadata": {
        "colab": {
          "base_uri": "https://localhost:8080/"
        },
        "id": "FpWjVXSkSuzD",
        "outputId": "0d86d759-5265-4306-f7e0-7fd519a6d265"
      },
      "outputs": [
        {
          "output_type": "stream",
          "name": "stdout",
          "text": [
            "231\n"
          ]
        }
      ],
      "source": [
        "def minimumDeleteSum(s1, s2):\n",
        "    m, n = len(s1), len(s2)\n",
        "    \n",
        "    # Create a 2D DP table with an extra row and column for empty strings\n",
        "    dp = [[0] * (n + 1) for _ in range(m + 1)]\n",
        "    \n",
        "    # Fill the first row and column with cumulative ASCII sums\n",
        "    for i in range(1, m + 1):\n",
        "        dp[i][0] = dp[i - 1][0] + ord(s1[i - 1])\n",
        "    \n",
        "    for j in range(1, n + 1):\n",
        "        dp[0][j] = dp[0][j - 1] + ord(s2[j - 1])\n",
        "    \n",
        "    # Fill the remaining cells of the DP table\n",
        "    for i in range(1, m + 1):\n",
        "        for j in range(1, n + 1):\n",
        "            # If the characters match, no deletion is required\n",
        "            if s1[i - 1] == s2[j - 1]:\n",
        "                dp[i][j] = dp[i - 1][j - 1]\n",
        "            else:\n",
        "                # Delete either s1[i-1] or s2[j-1] and choose the minimum ASCII sum\n",
        "                dp[i][j] = min(dp[i - 1][j] + ord(s1[i - 1]), dp[i][j - 1] + ord(s2[j - 1]))\n",
        "    \n",
        "    # The bottom-right cell contains the minimum ASCII sum\n",
        "    return dp[m][n]\n",
        "\n",
        "s1 = \"sea\"\n",
        "s2 = \"eat\"\n",
        "result = minimumDeleteSum(s1, s2)\n",
        "print(result)  # Output: 231\n"
      ]
    },
    {
      "cell_type": "markdown",
      "source": [
        "###💡 **Question 2**\n",
        "\n",
        "Given a string s containing only three types of characters: '(', ')' and '*', return true *if* s *is **valid***.\n",
        "\n",
        "The following rules define a **valid** string:\n",
        "\n",
        "- Any left parenthesis '(' must have a corresponding right parenthesis ')'.\n",
        "- Any right parenthesis ')' must have a corresponding left parenthesis '('.\n",
        "- Left parenthesis '(' must go before the corresponding right parenthesis ')'.\n",
        "- '*' could be treated as a single right parenthesis ')' or a single left parenthesis '(' or an empty string \"\".\n",
        "\n",
        "**Example 1:**\n",
        "\n",
        "**Input:** s = \"()\"\n",
        "\n",
        "**Output:**\n",
        "\n",
        "true\n",
        "\n",
        "</aside>"
      ],
      "metadata": {
        "id": "2LLfUIfGS7eX"
      }
    },
    {
      "cell_type": "code",
      "source": [
        "def isValid(s):\n",
        "    stack = []\n",
        "    asterisks = []\n",
        "\n",
        "    for char in s:\n",
        "        if char == '(':\n",
        "            stack.append('(')\n",
        "        elif char == '*':\n",
        "            asterisks.append('*')\n",
        "        else:  # char == ')'\n",
        "            if stack:\n",
        "                stack.pop()\n",
        "            elif asterisks:\n",
        "                asterisks.pop()\n",
        "            else:\n",
        "                return False\n",
        "\n",
        "    while stack and asterisks:\n",
        "        if stack[-1] < asterisks[-1]:\n",
        "            stack.pop()\n",
        "            asterisks.pop()\n",
        "        else:\n",
        "            return False\n",
        "\n",
        "    return len(stack) == 0\n",
        "\n",
        "\n",
        "# Test the function with the example input\n",
        "s = \"()\"\n",
        "result = isValid(s)\n",
        "print(result)  # Output: True\n"
      ],
      "metadata": {
        "colab": {
          "base_uri": "https://localhost:8080/"
        },
        "id": "EK49OUvDS9Ak",
        "outputId": "effe0741-48d5-477f-9d0b-2b12455c76ab"
      },
      "execution_count": 2,
      "outputs": [
        {
          "output_type": "stream",
          "name": "stdout",
          "text": [
            "True\n"
          ]
        }
      ]
    },
    {
      "cell_type": "markdown",
      "source": [
        "###💡 **Question 3**\n",
        "\n",
        "Given two strings word1 and word2, return *the minimum number of **steps** required to make* word1 *and* word2 *the same*.\n",
        "\n",
        "In one **step**, you can delete exactly one character in either string.\n",
        "\n",
        "**Example 1:**\n",
        "\n",
        "**Input:** word1 = \"sea\", word2 = \"eat\"\n",
        "\n",
        "**Output:** 2\n",
        "\n",
        "**Explanation:** You need one step to make \"sea\" to \"ea\" and another step to make \"eat\" to \"ea\".\n",
        "\n",
        "</aside>"
      ],
      "metadata": {
        "id": "oV-PkxUsTQHu"
      }
    },
    {
      "cell_type": "code",
      "source": [
        "def minDistance(word1, word2):\n",
        "    m, n = len(word1), len(word2)\n",
        "    \n",
        "    # Create a 2D DP table with an extra row and column for empty strings\n",
        "    dp = [[0] * (n + 1) for _ in range(m + 1)]\n",
        "    \n",
        "    # Fill the first row and column with indices\n",
        "    for i in range(m + 1):\n",
        "        dp[i][0] = i\n",
        "        \n",
        "    for j in range(n + 1):\n",
        "        dp[0][j] = j\n",
        "    \n",
        "    # Fill the remaining cells of the DP table\n",
        "    for i in range(1, m + 1):\n",
        "        for j in range(1, n + 1):\n",
        "            # If the characters match, no deletion is required\n",
        "            if word1[i - 1] == word2[j - 1]:\n",
        "                dp[i][j] = dp[i - 1][j - 1]\n",
        "            else:\n",
        "                # Delete either word1[i-1] or word2[j-1] and choose the minimum steps\n",
        "                dp[i][j] = min(dp[i - 1][j], dp[i][j - 1]) + 1\n",
        "    \n",
        "    # The bottom-right cell contains the minimum number of steps\n",
        "    return dp[m][n]\n",
        "word1 = \"sea\"\n",
        "word2 = \"eat\"\n",
        "result = minDistance(word1, word2)\n",
        "print(result)  # Output: 2\n"
      ],
      "metadata": {
        "colab": {
          "base_uri": "https://localhost:8080/"
        },
        "id": "vZfz_ahoTSBn",
        "outputId": "31a829bb-11cb-44e9-9f1e-2717f83fb194"
      },
      "execution_count": 3,
      "outputs": [
        {
          "output_type": "stream",
          "name": "stdout",
          "text": [
            "2\n"
          ]
        }
      ]
    },
    {
      "cell_type": "markdown",
      "source": [
        "###💡 **Question 4**\n",
        "\n",
        "You need to construct a binary tree from a string consisting of parenthesis and integers.\n",
        "\n",
        "The whole input represents a binary tree. It contains an integer followed by zero, one or two pairs of parenthesis. The integer represents the root's value and a pair of parenthesis contains a child binary tree with the same structure.\n",
        "You always start to construct the **left** child node of the parent first if it exists.\n",
        "\n",
        "**Input:** s = \"4(2(3)(1))(6(5))\"\n",
        "\n",
        "**Output:** [4, 2, 3, 1, 6, 5]\n",
        "</aside>"
      ],
      "metadata": {
        "id": "Cq5OEDvcVtoA"
      }
    },
    {
      "cell_type": "code",
      "source": [
        "class TreeNode:\n",
        "    def __init__(self, val=0, left=None, right=None):\n",
        "        self.val = val\n",
        "        self.left = left\n",
        "        self.right = right\n",
        "\n",
        "def str2tree(s):\n",
        "    if not s or s.isspace():\n",
        "        return None\n",
        "\n",
        "    root_val = \"\"\n",
        "    i = 0\n",
        "\n",
        "    # Find the root value\n",
        "    while i < len(s) and s[i] != '(':\n",
        "        root_val += s[i]\n",
        "        i += 1\n",
        "\n",
        "    # Create the root node\n",
        "    root = TreeNode(int(root_val))\n",
        "\n",
        "    if i == len(s):\n",
        "        return root\n",
        "\n",
        "    # Find the end of the left subtree\n",
        "    start = i + 1\n",
        "    count = 1\n",
        "\n",
        "    while count > 0:\n",
        "        i += 1\n",
        "        if s[i] == '(':\n",
        "            count += 1\n",
        "        elif s[i] == ')':\n",
        "            count -= 1\n",
        "\n",
        "    # Construct the left subtree\n",
        "    root.left = str2tree(s[start:i])\n",
        "\n",
        "    # Construct the right subtree\n",
        "    if i + 1 < len(s):\n",
        "        root.right = str2tree(s[i + 2:-1])\n",
        "\n",
        "    return root\n",
        "\n",
        "s = \"4(2(3)(1))(6(5))\"\n",
        "root = str2tree(s)\n",
        "\n",
        "# Function to convert binary tree to list for comparison\n",
        "def treeToList(root):\n",
        "    if root is None:\n",
        "        return []\n",
        "    return [root.val] + treeToList(root.left) + treeToList(root.right)\n",
        "\n",
        "result = treeToList(root)\n",
        "print(result)  # Output: [4, 2, 3, 1, 6, 5]\n"
      ],
      "metadata": {
        "colab": {
          "base_uri": "https://localhost:8080/"
        },
        "id": "b_FBgE4OVvRQ",
        "outputId": "e287e5b3-d005-4af7-c272-0e71b271a6a9"
      },
      "execution_count": 20,
      "outputs": [
        {
          "output_type": "stream",
          "name": "stdout",
          "text": [
            "[4, 2, 3, 1, 6, 5]\n"
          ]
        }
      ]
    },
    {
      "cell_type": "markdown",
      "source": [
        "###💡 **Question 5**\n",
        "\n",
        "Given an array of characters chars, compress it using the following algorithm:\n",
        "\n",
        "Begin with an empty string s. For each group of **consecutive repeating characters** in chars:\n",
        "\n",
        "- If the group's length is 1, append the character to s.\n",
        "- Otherwise, append the character followed by the group's length.\n",
        "\n",
        "The compressed string s **should not be returned separately**, but instead, be stored **in the input character array chars**. Note that group lengths that are 10 or longer will be split into multiple characters in chars.\n",
        "\n",
        "After you are done **modifying the input array,** return *the new length of the array*.\n",
        "\n",
        "You must write an algorithm that uses only constant extra space.\n",
        "\n",
        "**Example 1:**\n",
        "\n",
        "**Input:** chars = [\"a\",\"a\",\"b\",\"b\",\"c\",\"c\",\"c\"]\n",
        "\n",
        "**Output:** Return 6, and the first 6 characters of the input array should be: [\"a\",\"2\",\"b\",\"2\",\"c\",\"3\"]\n",
        "\n",
        "**Explanation:**\n",
        "\n",
        "The groups are \"aa\", \"bb\", and \"ccc\". This compresses to \"a2b2c3\".\n",
        "\n",
        "</aside>"
      ],
      "metadata": {
        "id": "oIcnJ2QUZ9E6"
      }
    },
    {
      "cell_type": "code",
      "source": [
        "def compress(chars):\n",
        "    read, write = 0, 0\n",
        "    count = 1\n",
        "\n",
        "    for i in range(1, len(chars)):\n",
        "        if chars[i] == chars[i-1]:\n",
        "            count += 1\n",
        "        else:\n",
        "            chars[write] = chars[read]\n",
        "            write += 1\n",
        "            if count > 1:\n",
        "                for digit in str(count):\n",
        "                    chars[write] = digit\n",
        "                    write += 1\n",
        "            count = 1\n",
        "            read = i\n",
        "\n",
        "    chars[write] = chars[read]\n",
        "    write += 1\n",
        "    if count > 1:\n",
        "        for digit in str(count):\n",
        "            chars[write] = digit\n",
        "            write += 1\n",
        "\n",
        "    return write\n"
      ],
      "metadata": {
        "id": "TJygjVPpZ_Xn"
      },
      "execution_count": 9,
      "outputs": []
    },
    {
      "cell_type": "code",
      "source": [
        "chars = [\"a\",\"a\",\"b\",\"b\",\"c\",\"c\",\"c\"]\n",
        "length = compress(chars)\n",
        "print(length)  # Output: 6\n",
        "print(chars[:length])  # Output: [\"a\",\"2\",\"b\",\"2\",\"c\",\"3\"]\n"
      ],
      "metadata": {
        "colab": {
          "base_uri": "https://localhost:8080/"
        },
        "id": "m4KQ9H2WbaCk",
        "outputId": "11176cba-5f4c-4cee-b3ed-b7e37fc37fd9"
      },
      "execution_count": 10,
      "outputs": [
        {
          "output_type": "stream",
          "name": "stdout",
          "text": [
            "6\n",
            "['a', '2', 'b', '2', 'c', '3']\n"
          ]
        }
      ]
    },
    {
      "cell_type": "markdown",
      "source": [
        "###💡 **Question 6**\n",
        "\n",
        "Given two strings s and p, return *an array of all the start indices of* p*'s anagrams in* s. You may return the answer in **any order**.\n",
        "\n",
        "An **Anagram** is a word or phrase formed by rearranging the letters of a different word or phrase, typically using all the original letters exactly once.\n",
        "\n",
        "**Example 1:**\n",
        "\n",
        "**Input:** s = \"cbaebabacd\", p = \"abc\"\n",
        "\n",
        "**Output:** [0,6]\n",
        "\n",
        "**Explanation:**\n",
        "\n",
        "The substring with start index = 0 is \"cba\", which is an anagram of \"abc\".\n",
        "\n",
        "The substring with start index = 6 is \"bac\", which is an anagram of \"abc\".\n",
        "\n",
        "</aside>"
      ],
      "metadata": {
        "id": "KRMLO6XYb362"
      }
    },
    {
      "cell_type": "code",
      "source": [
        "def findAnagrams(s, p):\n",
        "    result = []\n",
        "    p_freq = [0] * 26\n",
        "    s_freq = [0] * 26\n",
        "\n",
        "    for char in p:\n",
        "        p_freq[ord(char) - ord('a')] += 1\n",
        "\n",
        "    left = right = 0\n",
        "    while right < len(s):\n",
        "        s_freq[ord(s[right]) - ord('a')] += 1\n",
        "\n",
        "        if right - left + 1 > len(p):\n",
        "            s_freq[ord(s[left]) - ord('a')] -= 1\n",
        "            left += 1\n",
        "\n",
        "        if p_freq == s_freq:\n",
        "            result.append(left)\n",
        "\n",
        "        right += 1\n",
        "\n",
        "    return result\n",
        "\n",
        "s = \"cbaebabacd\"\n",
        "p = \"abc\"\n",
        "indices = findAnagrams(s, p)\n",
        "print(indices)  # Output: [0, 6]\n"
      ],
      "metadata": {
        "colab": {
          "base_uri": "https://localhost:8080/"
        },
        "id": "vG4wxF_lbp7U",
        "outputId": "0161b61b-bf39-4c27-bc51-8dd91550c557"
      },
      "execution_count": 14,
      "outputs": [
        {
          "output_type": "stream",
          "name": "stdout",
          "text": [
            "[0, 6]\n"
          ]
        }
      ]
    },
    {
      "cell_type": "markdown",
      "source": [
        "###💡 **Question 7**\n",
        "\n",
        "Given an encoded string, return its decoded string.\n",
        "\n",
        "The encoding rule is: k[encoded_string], where the encoded_string inside the square brackets is being repeated exactly k times. Note that k is guaranteed to be a positive integer.\n",
        "\n",
        "You may assume that the input string is always valid; there are no extra white spaces, square brackets are well-formed, etc. Furthermore, you may assume that the original data does not contain any digits and that digits are only for those repeat numbers, k. For example, there will not be input like 3a or 2[4].\n",
        "\n",
        "The test cases are generated so that the length of the output will never exceed 105.\n",
        "\n",
        "**Example 1:**\n",
        "\n",
        "**Input:** s = \"3[a]2[bc]\"\n",
        "\n",
        "**Output:** \"aaabcbc\"\n",
        "\n",
        "</aside>"
      ],
      "metadata": {
        "id": "kVHsjJvTcWnB"
      }
    },
    {
      "cell_type": "code",
      "source": [
        "def decodeString(s):\n",
        "    stack = []\n",
        "    count = 0\n",
        "    curr_str = \"\"\n",
        "\n",
        "    for char in s:\n",
        "        if char.isdigit():\n",
        "            count = count * 10 + int(char)\n",
        "        elif char == \"[\":\n",
        "            stack.append((count, curr_str))\n",
        "            count = 0\n",
        "            curr_str = \"\"\n",
        "        elif char == \"]\":\n",
        "            prev_count, prev_str = stack.pop()\n",
        "            curr_str = prev_str + curr_str * prev_count\n",
        "        else:\n",
        "            curr_str += char\n",
        "\n",
        "    return curr_str\n",
        "\n",
        "s = \"3[a]2[bc]\"\n",
        "decoded_string = decodeString(s)\n",
        "print(decoded_string)  # Output: \"aaabcbc\"\n"
      ],
      "metadata": {
        "colab": {
          "base_uri": "https://localhost:8080/"
        },
        "id": "wGw6DLMEcHUt",
        "outputId": "6c356ee7-cce8-40dd-ccd4-5fac3d9de0fe"
      },
      "execution_count": 15,
      "outputs": [
        {
          "output_type": "stream",
          "name": "stdout",
          "text": [
            "aaabcbc\n"
          ]
        }
      ]
    },
    {
      "cell_type": "markdown",
      "source": [
        "###💡 **Question 8**\n",
        "\n",
        "Given two strings s and goal, return true *if you can swap two letters in* s *so the result is equal to* goal*, otherwise, return* false*.*\n",
        "\n",
        "Swapping letters is defined as taking two indices i and j (0-indexed) such that i != j and swapping the characters at s[i] and s[j].\n",
        "\n",
        "- For example, swapping at indices 0 and 2 in \"abcd\" results in \"cbad\".\n",
        "\n",
        "**Example 1:**\n",
        "\n",
        "**Input:** s = \"ab\", goal = \"ba\"\n",
        "\n",
        "**Output:** true\n",
        "\n",
        "**Explanation:** You can swap s[0] = 'a' and s[1] = 'b' to get \"ba\", which is equal to goal.\n",
        "\n",
        "</aside>"
      ],
      "metadata": {
        "id": "TERZVNKNclcf"
      }
    },
    {
      "cell_type": "code",
      "source": [
        "def buddyStrings(s, goal):\n",
        "    if len(s) != len(goal):\n",
        "        return False\n",
        "\n",
        "    diff_s = []\n",
        "    diff_goal = []\n",
        "\n",
        "    for i in range(len(s)):\n",
        "        if s[i] != goal[i]:\n",
        "            diff_s.append(i)\n",
        "            diff_goal.append(i)\n",
        "\n",
        "    if len(diff_s) != 2:\n",
        "        return False\n",
        "\n",
        "    swapped_s = list(s)\n",
        "    swapped_s[diff_s[0]], swapped_s[diff_s[1]] = swapped_s[diff_s[1]], swapped_s[diff_s[0]]\n",
        "    swapped_s = \"\".join(swapped_s)\n",
        "\n",
        "    if swapped_s == goal:\n",
        "        return True\n",
        "\n",
        "    return False\n",
        "\n",
        "s = \"ab\"\n",
        "goal = \"ba\"\n",
        "result = buddyStrings(s, goal)\n",
        "print(result)  # Output: True\n"
      ],
      "metadata": {
        "colab": {
          "base_uri": "https://localhost:8080/"
        },
        "id": "hfXH3S3Lch5_",
        "outputId": "ba68d402-b677-4be8-f26e-bf2db13e76a4"
      },
      "execution_count": 17,
      "outputs": [
        {
          "output_type": "stream",
          "name": "stdout",
          "text": [
            "True\n"
          ]
        }
      ]
    }
  ]
}